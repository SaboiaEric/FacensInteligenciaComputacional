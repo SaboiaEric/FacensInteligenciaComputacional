{
 "cells": [
  {
   "cell_type": "markdown",
   "metadata": {},
   "source": [
    "# Desafio - Instruções\n",
    "\n",
    "* Com o conjunto de dados sobre *câncer de mama*, utilize a célula seguinte com os dados carregados e divididos e **obtenha o melhor desempenho em um balanceamento das métricas**. \n",
    "\n",
    "* O modelo criado por você deverá ser *testado no conjunto de teste X_test e y_test*. \n",
    "\n",
    "* *O conjunto data_train e target_train poderá ser utilizado para escolher os melhores parâmetros e validar o modelo.*\n",
    "\n",
    "* Organize e **tenha cuidado** para que seu experimento execute um *protocolo de validação que faça sentido*.\n",
    "\n",
    "Mais informações sobre esse conjunto de dados poderão ser obtidas em: \n",
    "[https://scikit-learn.org/stable/datasets/index.html#breast-cancer-dataset](http://)"
   ]
  },
  {
   "cell_type": "code",
   "execution_count": 10,
   "metadata": {},
   "outputs": [],
   "source": [
    "# importando o dados\n",
    "from sklearn.datasets import load_breast_cancer\n",
    "\n",
    "breast_cancer = load_breast_cancer()\n",
    "data = breast_cancer.data\n",
    "target = breast_cancer.target"
   ]
  },
  {
   "cell_type": "code",
   "execution_count": 11,
   "metadata": {},
   "outputs": [],
   "source": [
    "# separando os dados em treino e teste\n",
    "from sklearn.model_selection import train_test_split\n",
    "X_train, X_test_original, y_train, y_test_original = train_test_split(data, target, test_size=0.2, random_state=42)\n",
    "\n",
    "# separando o conjunto de treino em validação também\n",
    "X_train, X_test, y_train, y_test = train_test_split(X_train, y_train, test_size=0.2, random_state=42)"
   ]
  },
  {
   "cell_type": "code",
   "execution_count": 12,
   "metadata": {},
   "outputs": [
    {
     "name": "stdout",
     "output_type": "stream",
     "text": [
      "Acurácia:  0.945054945054945\n"
     ]
    }
   ],
   "source": [
    "# treinando o modelo \n",
    "from sklearn.neighbors import KNeighborsClassifier\n",
    "knn = KNeighborsClassifier(n_neighbors=3)\n",
    "knn.fit(X_train, y_train)\n",
    "\n",
    "# avaliando o modelo\n",
    "from sklearn.metrics import accuracy_score\n",
    "y_pred = knn.predict(X_test)\n",
    "print(\"Acurácia: \", accuracy_score(y_test, y_pred))"
   ]
  },
  {
   "cell_type": "code",
   "execution_count": 13,
   "metadata": {},
   "outputs": [
    {
     "data": {
      "image/png": "[encoded data removed]",
      "text/plain": [
       "<Figure size 432x288 with 2 Axes>"
      ]
     },
     "metadata": {
      "needs_background": "light"
     },
     "output_type": "display_data"
    },
    {
     "data": {
      "image/png": "[encoded data removed]",
      "text/plain": [
       "<Figure size 432x288 with 2 Axes>"
      ]
     },
     "metadata": {
      "needs_background": "light"
     },
     "output_type": "display_data"
    }
   ],
   "source": [
    "import itertools\n",
    "import numpy as np\n",
    "import matplotlib.pyplot as plt\n",
    "from sklearn.metrics import confusion_matrix\n",
    "\n",
    "def plot_confusion_matrix(cm, classes,\n",
    "                          normalize=False,\n",
    "                          title='Matriz de confusão',\n",
    "                          cmap=plt.cm.Blues):\n",
    "    if normalize:\n",
    "        cm = cm.astype('float') / cm.sum(axis=1)[:, np.newaxis]\n",
    "\n",
    "    plt.imshow(cm, interpolation='nearest', cmap=cmap)\n",
    "    plt.title(title)\n",
    "    plt.colorbar()\n",
    "    tick_marks = np.arange(len(classes))\n",
    "    plt.xticks(tick_marks, classes, rotation=45)\n",
    "    plt.yticks(tick_marks, classes)\n",
    "\n",
    "    fmt = '.2f' if normalize else 'd'\n",
    "    thresh = cm.max() / 2.\n",
    "    for i, j in itertools.product(range(cm.shape[0]), range(cm.shape[1])):\n",
    "        plt.text(j, i, format(cm[i, j], fmt),\n",
    "                 horizontalalignment=\"center\",\n",
    "                 color=\"white\" if cm[i, j] > thresh else \"black\")\n",
    "\n",
    "    plt.ylabel('Gabarito')\n",
    "    plt.xlabel('Predição')\n",
    "    plt.tight_layout()\n",
    "\n",
    "\n",
    "# calcula a matriz de confusão\n",
    "cnf_matrix = confusion_matrix(y_test, y_pred)\n",
    "np.set_printoptions(precision=2)\n",
    "\n",
    "# não normalizada\n",
    "plt.figure()\n",
    "plot_confusion_matrix(cnf_matrix, classes=np.unique(breast_cancer.target),\n",
    "                      title='Matriz de confusão sem normalização')\n",
    "\n",
    "# normalizada\n",
    "plt.figure()\n",
    "plot_confusion_matrix(cnf_matrix, classes=np.unique(breast_cancer.target), normalize=True,\n",
    "                      title='Matriz de confusão normalizada')\n",
    "\n",
    "plt.show()"
   ]
  },
  {
   "cell_type": "code",
   "execution_count": 14,
   "metadata": {},
   "outputs": [
    {
     "name": "stdout",
     "output_type": "stream",
     "text": [
      "              precision    recall  f1-score   support\n",
      "\n",
      "           0       0.97      0.89      0.93        36\n",
      "           1       0.93      0.98      0.96        55\n",
      "\n",
      "   micro avg       0.95      0.95      0.95        91\n",
      "   macro avg       0.95      0.94      0.94        91\n",
      "weighted avg       0.95      0.95      0.94        91\n",
      "\n"
     ]
    }
   ],
   "source": [
    "from sklearn.metrics import classification_report\n",
    "\n",
    "print(classification_report(y_test, y_pred))"
   ]
  },
  {
   "cell_type": "code",
   "execution_count": 15,
   "metadata": {},
   "outputs": [
    {
     "name": "stdout",
     "output_type": "stream",
     "text": [
      "K: 1 - ACC: 0.9340659340659341\n",
      "K: 2 - ACC: 0.9230769230769231\n",
      "K: 3 - ACC: 0.945054945054945\n",
      "K: 4 - ACC: 0.9230769230769231\n",
      "K: 5 - ACC: 0.945054945054945\n",
      "\n",
      "Melhor modelo:\n",
      "K: 3 - ACC: 92.10526315789474\n",
      "              precision    recall  f1-score   support\n",
      "\n",
      "           0       0.95      0.84      0.89        43\n",
      "           1       0.91      0.97      0.94        71\n",
      "\n",
      "   micro avg       0.92      0.92      0.92       114\n",
      "   macro avg       0.93      0.90      0.91       114\n",
      "weighted avg       0.92      0.92      0.92       114\n",
      "\n"
     ]
    }
   ],
   "source": [
    "best_model = None\n",
    "best_accuracy = 0\n",
    "\n",
    "for k in [1,2,3,4,5]:\n",
    "\n",
    "    knn = KNeighborsClassifier(n_neighbors = k) # a cada passo, o parâmetro assume um valor\n",
    "    knn.fit(X_train, y_train)\n",
    "\n",
    "    y_pred = knn.predict(X_test)\n",
    "    acc = accuracy_score(y_test, y_pred)\n",
    "    print('K:', k, '- ACC:', acc)\n",
    "    \n",
    "    if acc > best_accuracy:\n",
    "        best_model = knn\n",
    "        best_accuracy = acc\n",
    "        \n",
    "y_pred = best_model.predict(X_test_original)\n",
    "acc = accuracy_score(y_test_original, y_pred)\n",
    "\n",
    "print()\n",
    "print('Melhor modelo:')\n",
    "print('K:', best_model.get_params()['n_neighbors'], '- ACC:', acc * 100)\n",
    "\n",
    "print(classification_report(y_test_original, y_pred))"
   ]
  },
  {
   "cell_type": "code",
   "execution_count": null,
   "metadata": {},
   "outputs": [],
   "source": []
  },
  {
   "cell_type": "code",
   "execution_count": null,
   "metadata": {},
   "outputs": [],
   "source": []
  }
 ],
 "metadata": {
  "kernelspec": {
   "display_name": "Python 3",
   "language": "python",
   "name": "python3"
  },
  "language_info": {
   "codemirror_mode": {
    "name": "ipython",
    "version": 3
   },
   "file_extension": ".py",
   "mimetype": "text/x-python",
   "name": "python",
   "nbconvert_exporter": "python",
   "pygments_lexer": "ipython3",
   "version": "3.7.1"
  }
 },
 "nbformat": 4,
 "nbformat_minor": 2
}
