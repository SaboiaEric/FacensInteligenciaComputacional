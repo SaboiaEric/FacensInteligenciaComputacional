{
 "cells": [
  {
   "cell_type": "markdown",
   "metadata": {},
   "source": [
    "# Desafio - Instruções\n",
    "\n",
    "* Com o conjunto de dados sobre *câncer de mama*, utilize a célula seguinte com os dados carregados e divididos e **obtenha o melhor desempenho em um balanceamento das métricas**. \n",
    "\n",
    "* O modelo criado por você deverá ser *testado no conjunto de teste X_test e y_test*. \n",
    "\n",
    "* *O conjunto data_train e target_train poderá ser utilizado para escolher os melhores parâmetros e validar o modelo.*\n",
    "\n",
    "* Organize e **tenha cuidado** para que seu experimento execute um *protocolo de validação que faça sentido*.\n",
    "\n",
    "Mais informações sobre esse conjunto de dados poderão ser obtidas em: \n",
    "[https://scikit-learn.org/stable/datasets/index.html#breast-cancer-dataset](http://)"
   ]
  },
  {
   "cell_type": "code",
   "execution_count": 13,
   "metadata": {},
   "outputs": [],
   "source": [
    "# importando o dados\n",
    "from sklearn.datasets import load_breast_cancer\n",
    "\n",
    "breast_cancer = load_breast_cancer()\n",
    "data = breast_cancer.data\n",
    "target = breast_cancer.target"
   ]
  },
  {
   "cell_type": "markdown",
   "metadata": {},
   "source": [
    "### HOULDOUT"
   ]
  },
  {
   "cell_type": "code",
   "execution_count": 14,
   "metadata": {},
   "outputs": [],
   "source": [
    "# separando os dados em treino e teste\n",
    "from sklearn.model_selection import train_test_split\n",
    "X_train, X_test_original, y_train, y_test_original = train_test_split(data, target, test_size=0.2, random_state=42)\n",
    "\n",
    "# separando o conjunto de treino em validação também\n",
    "X_train, X_test, y_train, y_test = train_test_split(X_train, y_train, test_size=0.2, random_state=42)"
   ]
  },
  {
   "cell_type": "code",
   "execution_count": 15,
   "metadata": {},
   "outputs": [
    {
     "name": "stdout",
     "output_type": "stream",
     "text": [
      "Acurácia:  0.945054945054945\n"
     ]
    }
   ],
   "source": [
    "# treinando o modelo \n",
    "from sklearn.neighbors import KNeighborsClassifier\n",
    "knn = KNeighborsClassifier(n_neighbors=3)\n",
    "knn.fit(X_train, y_train)\n",
    "\n",
    "# avaliando o modelo\n",
    "from sklearn.metrics import accuracy_score\n",
    "y_pred = knn.predict(X_test)\n",
    "print(\"Acurácia: \", accuracy_score(y_test, y_pred))"
   ]
  },
  {
   "cell_type": "code",
   "execution_count": 16,
   "metadata": {},
   "outputs": [],
   "source": [
    "from sklearn.metrics import classification_report"
   ]
  },
  {
   "cell_type": "code",
   "execution_count": 17,
   "metadata": {},
   "outputs": [
    {
     "name": "stdout",
     "output_type": "stream",
     "text": [
      "K: 1 - ACC: 0.9340659340659341\n",
      "K: 2 - ACC: 0.9230769230769231\n",
      "K: 3 - ACC: 0.945054945054945\n",
      "K: 4 - ACC: 0.9230769230769231\n",
      "K: 5 - ACC: 0.945054945054945\n",
      "\n",
      "Melhor modelo:\n",
      "K: 3 - ACC: 92.10526315789474\n",
      "              precision    recall  f1-score   support\n",
      "\n",
      "           0       0.95      0.84      0.89        43\n",
      "           1       0.91      0.97      0.94        71\n",
      "\n",
      "   micro avg       0.92      0.92      0.92       114\n",
      "   macro avg       0.93      0.90      0.91       114\n",
      "weighted avg       0.92      0.92      0.92       114\n",
      "\n"
     ]
    }
   ],
   "source": [
    "#Grid Searh - buscando o melhor parâmetro para o modelo\n",
    "\n",
    "# analisando e verificando a melhor parametrização modelo, baseado no melhor valor de vizinho para KNN\n",
    "best_model = None\n",
    "best_accuracy = 0\n",
    "\n",
    "for k in [1,2,3,4,5]:\n",
    "\n",
    "    knn = KNeighborsClassifier(n_neighbors = k) # a cada passo, o parâmetro assume um valor\n",
    "    knn.fit(X_train, y_train)\n",
    "\n",
    "    y_pred = knn.predict(X_test)\n",
    "    acc = accuracy_score(y_test, y_pred)\n",
    "    print('K:', k, '- ACC:', acc)\n",
    "    \n",
    "    if acc > best_accuracy:\n",
    "        best_model = knn\n",
    "        best_accuracy = acc\n",
    "        \n",
    "y_pred = best_model.predict(X_test_original)\n",
    "acc = accuracy_score(y_test_original, y_pred)\n",
    "\n",
    "print()\n",
    "print('Melhor modelo:')\n",
    "print('K:', best_model.get_params()['n_neighbors'], '- ACC:', acc * 100)\n",
    "\n",
    "print(classification_report(y_test_original, y_pred))"
   ]
  },
  {
   "cell_type": "markdown",
   "metadata": {},
   "source": [
    "### Validação cruzada\n",
    "    ShuffleSplit"
   ]
  },
  {
   "cell_type": "code",
   "execution_count": 23,
   "metadata": {},
   "outputs": [
    {
     "name": "stdout",
     "output_type": "stream",
     "text": [
      "Acurácia: 91.23 +- 0.00\n"
     ]
    }
   ],
   "source": [
    "## UTILIZANDO O MELHOR MODELO NO GRID SEARCH\n",
    "\n",
    "# embaralhando os dados várias vezes e re-executando o experimento\n",
    "\n",
    "import numpy as np\n",
    "from sklearn.model_selection import ShuffleSplit\n",
    "ss = ShuffleSplit(n_splits=best_model.get_params()['n_neighbors'], test_size=0.2, random_state=0) # 5 execuções diferentes com 20% dos dados para teste\n",
    "\n",
    "acc = []\n",
    "for train_index, test_index in ss.split(data):\n",
    "    knn = KNeighborsClassifier(n_neighbors = best_model.get_params()['n_neighbors'])\n",
    "    knn.fit(data[train_index],target[train_index])\n",
    "    y_pred = knn.predict(data[test_index])\n",
    "    acc.append(accuracy_score(y_pred,target[test_index]))\n",
    "\n",
    "acc = np.asarray(acc) # converte pra numpy pra ficar mais simples de usar média e desvio padrão\n",
    "print('Acurácia: %.2f +- %.2f' % (acc.mean() * 100, acc.std() * 100))"
   ]
  },
  {
   "cell_type": "code",
   "execution_count": 22,
   "metadata": {},
   "outputs": [
    {
     "name": "stdout",
     "output_type": "stream",
     "text": [
      "Acurácia: 91.05 +- 1.16\n"
     ]
    }
   ],
   "source": [
    "# embaralhando os dados várias vezes e re-executando o experimento\n",
    "\n",
    "import numpy as np\n",
    "from sklearn.model_selection import ShuffleSplit\n",
    "ss = ShuffleSplit(n_splits=5, test_size=0.2, random_state=0) # 5 execuções diferentes com 20% dos dados para teste\n",
    "\n",
    "acc = []\n",
    "for train_index, test_index in ss.split(data):\n",
    "    knn = KNeighborsClassifier(n_neighbors = 1)\n",
    "    knn.fit(data[train_index],target[train_index])\n",
    "    y_pred = knn.predict(data[test_index])\n",
    "    acc.append(accuracy_score(y_pred,target[test_index]))\n",
    "\n",
    "acc = np.asarray(acc) # converte pra numpy pra ficar mais simples de usar média e desvio padrão\n",
    "print('Acurácia: %.2f +- %.2f' % (acc.mean() * 100, acc.std() * 100))"
   ]
  },
  {
   "cell_type": "markdown",
   "metadata": {},
   "source": [
    "### Validação cruzada\n",
    "    cross_val_score"
   ]
  },
  {
   "cell_type": "code",
   "execution_count": 19,
   "metadata": {},
   "outputs": [
    {
     "name": "stdout",
     "output_type": "stream",
     "text": [
      "Acurácia: 91.93 +- 2.39\n"
     ]
    }
   ],
   "source": [
    "## UTILIZANDO O MELHOR MODELO NO GRID SEARCH\n",
    "\n",
    "# utilizando validação cruzada com cross_val_score\n",
    "from sklearn.model_selection import cross_val_score\n",
    "knn = KNeighborsClassifier(n_neighbors = best_model.get_params()['n_neighbors'])\n",
    "scores = cross_val_score(knn, data, target, cv=5) # 5 execuções diferentes com 20% dos dados para teste\n",
    "\n",
    "print('Acurácia: %.2f +- %.2f' % (scores.mean() * 100, scores.std() * 100))"
   ]
  },
  {
   "cell_type": "code",
   "execution_count": 24,
   "metadata": {},
   "outputs": [
    {
     "name": "stdout",
     "output_type": "stream",
     "text": [
      "Acurácia: 90.52 +- 2.33\n"
     ]
    }
   ],
   "source": [
    "# utilizando validação cruzada com cross_val_score\n",
    "from sklearn.model_selection import cross_val_score\n",
    "knn = KNeighborsClassifier(n_neighbors = 1)\n",
    "scores = cross_val_score(knn, data, target, cv=5) # 5 execuções diferentes com 20% dos dados para teste\n",
    "\n",
    "print('Acurácia: %.2f +- %.2f' % (scores.mean() * 100, scores.std() * 100))"
   ]
  },
  {
   "cell_type": "markdown",
   "metadata": {},
   "source": [
    "### Validação cruzada\n",
    "    KFold"
   ]
  },
  {
   "cell_type": "code",
   "execution_count": 20,
   "metadata": {},
   "outputs": [
    {
     "name": "stdout",
     "output_type": "stream",
     "text": [
      "Acurácia: 91.56 +- 2.15\n"
     ]
    }
   ],
   "source": [
    "## UTILIZANDO O MELHOR MODELO NO GRID SEARCH\n",
    "# utilizando validação cruzada com KFold\n",
    "\n",
    "from sklearn.model_selection import KFold\n",
    "kf = KFold(n_splits = best_model.get_params()['n_neighbors'])\n",
    "\n",
    "acc = []\n",
    "for train_index, test_index in kf.split(data):\n",
    "    knn = KNeighborsClassifier(n_neighbors = best_model.get_params()['n_neighbors'])\n",
    "    knn.fit(data[train_index],target[train_index])\n",
    "    y_pred = knn.predict(data[test_index])\n",
    "    acc.append(accuracy_score(y_pred,target[test_index]))\n",
    "\n",
    "acc = np.asarray(acc) # converte pra numpy pra ficar mais simples de usar média e desvio padrão\n",
    "print('Acurácia: %.2f +- %.2f' % (acc.mean() * 100, acc.std() * 100))"
   ]
  },
  {
   "cell_type": "code",
   "execution_count": 25,
   "metadata": {},
   "outputs": [
    {
     "name": "stdout",
     "output_type": "stream",
     "text": [
      "Acurácia: 90.69 +- 3.44\n"
     ]
    }
   ],
   "source": [
    "# utilizando validação cruzada com KFold\n",
    "\n",
    "from sklearn.model_selection import KFold\n",
    "kf = KFold(n_splits = 5)\n",
    "\n",
    "acc = []\n",
    "for train_index, test_index in kf.split(data):\n",
    "    knn = KNeighborsClassifier(n_neighbors = 1)\n",
    "    knn.fit(data[train_index],target[train_index])\n",
    "    y_pred = knn.predict(data[test_index])\n",
    "    acc.append(accuracy_score(y_pred,target[test_index]))\n",
    "\n",
    "acc = np.asarray(acc) # converte pra numpy pra ficar mais simples de usar média e desvio padrão\n",
    "print('Acurácia: %.2f +- %.2f' % (acc.mean() * 100, acc.std() * 100))"
   ]
  },
  {
   "cell_type": "markdown",
   "metadata": {},
   "source": [
    "### Validação cruzada\n",
    "    StratifiedKFold"
   ]
  },
  {
   "cell_type": "code",
   "execution_count": 21,
   "metadata": {},
   "outputs": [
    {
     "name": "stdout",
     "output_type": "stream",
     "text": [
      "Accuracy - 92.09 +- 2.40\n"
     ]
    }
   ],
   "source": [
    "# utilizando validação cruzada com KFold estratificado\n",
    "\n",
    "from sklearn.model_selection import StratifiedKFold\n",
    "kf = StratifiedKFold(n_splits =  best_model.get_params()['n_neighbors'])\n",
    "\n",
    "acc = []\n",
    "for train_index, test_index in kf.split(data, target): # precisa passar as classes agora para que a divisão aconteça\n",
    "    knn = KNeighborsClassifier(n_neighbors =  best_model.get_params()['n_neighbors'])\n",
    "    knn.fit(data[train_index],target[train_index])\n",
    "    y_pred = knn.predict(data[test_index])\n",
    "    acc.append(accuracy_score(y_pred,target[test_index]))\n",
    "\n",
    "acc = np.asarray(acc) # converte pra numpy pra ficar mais simples de usar média e desvio padrão\n",
    "print('Accuracy - %.2f +- %.2f' % (acc.mean() * 100, acc.std() * 100))"
   ]
  },
  {
   "cell_type": "code",
   "execution_count": 26,
   "metadata": {},
   "outputs": [
    {
     "name": "stdout",
     "output_type": "stream",
     "text": [
      "Accuracy - 90.52 +- 2.33\n"
     ]
    }
   ],
   "source": [
    "# utilizando validação cruzada com KFold estratificado\n",
    "\n",
    "from sklearn.model_selection import StratifiedKFold\n",
    "kf = StratifiedKFold(n_splits =  5)\n",
    "\n",
    "acc = []\n",
    "for train_index, test_index in kf.split(data, target): # precisa passar as classes agora para que a divisão aconteça\n",
    "    knn = KNeighborsClassifier(n_neighbors =  1)\n",
    "    knn.fit(data[train_index],target[train_index])\n",
    "    y_pred = knn.predict(data[test_index])\n",
    "    acc.append(accuracy_score(y_pred,target[test_index]))\n",
    "\n",
    "acc = np.asarray(acc) # converte pra numpy pra ficar mais simples de usar média e desvio padrão\n",
    "print('Accuracy - %.2f +- %.2f' % (acc.mean() * 100, acc.std() * 100))"
   ]
  },
  {
   "cell_type": "markdown",
   "metadata": {},
   "source": [
    "### visualizacao dos dados para entender a complexidade"
   ]
  },
  {
   "cell_type": "code",
   "execution_count": 31,
   "metadata": {},
   "outputs": [
    {
     "data": {
      "text/plain": [
       "Text(0.5, 1.0, 'PCA of Breast Cancer dataset')"
      ]
     },
     "execution_count": 31,
     "metadata": {},
     "output_type": "execute_result"
    },
    {
     "data": {
      "image/png": "[encoded data removed]",
      "text/plain": [
       "<Figure size 432x288 with 1 Axes>"
      ]
     },
     "metadata": {
      "needs_background": "light"
     },
     "output_type": "display_data"
    }
   ],
   "source": [
    "# visualizacao dos dados para entender a complexidade\n",
    "\n",
    "from sklearn.decomposition import PCA\n",
    "\n",
    "import matplotlib.pyplot as plt\n",
    "\n",
    "pca = PCA(n_components=2)\n",
    "X_r = pca.fit_transform(data)\n",
    "\n",
    "colors = ['navy', 'turquoise', 'darkorange']\n",
    "for color, i, target_name in zip(colors, [0, 1, 2], breast_cancer.target_names):\n",
    "    plt.scatter(X_r[target == i, 0], X_r[target == i, 1], color=color, alpha=.8, label=target_name)\n",
    "plt.legend(loc='best', shadow=False, scatterpoints=1)\n",
    "plt.title('PCA of Breast Cancer dataset')"
   ]
  },
  {
   "cell_type": "markdown",
   "metadata": {},
   "source": [
    "##### Resultado\n",
    "    Para casos malignos existem resultados muito discrepantes (altos, semelhantes a outliears) o que pode dificultar a análise do modelo para as amostrar mais alglomerados. Uma boa solução para este caso é utilizar redução de dimensionalidade a aplicar as amostrar novamente, se possível em todos os casos ou pelo menos no melhor modelo com o melhor parâmetro e métrica realizada acima."
   ]
  },
  {
   "cell_type": "code",
   "execution_count": null,
   "metadata": {},
   "outputs": [],
   "source": [
    "### Continuação"
   ]
  },
  {
   "cell_type": "code",
   "execution_count": 15,
   "metadata": {},
   "outputs": [],
   "source": [
    "from sklearn.decomposition import PCA\n",
    "from sklearn.preprocessing import StandardScaler\n",
    "import pandas as pd\n",
    "\n",
    "import matplotlib.pyplot as plt"
   ]
  },
  {
   "cell_type": "code",
   "execution_count": 16,
   "metadata": {},
   "outputs": [
    {
     "data": {
      "text/html": [
       "<div>\n",
       "<style scoped>\n",
       "    .dataframe tbody tr th:only-of-type {\n",
       "        vertical-align: middle;\n",
       "    }\n",
       "\n",
       "    .dataframe tbody tr th {\n",
       "        vertical-align: top;\n",
       "    }\n",
       "\n",
       "    .dataframe thead th {\n",
       "        text-align: right;\n",
       "    }\n",
       "</style>\n",
       "<table border=\"1\" class=\"dataframe\">\n",
       "  <thead>\n",
       "    <tr style=\"text-align: right;\">\n",
       "      <th></th>\n",
       "      <th>0</th>\n",
       "      <th>1</th>\n",
       "      <th>2</th>\n",
       "      <th>3</th>\n",
       "      <th>4</th>\n",
       "      <th>5</th>\n",
       "      <th>6</th>\n",
       "      <th>7</th>\n",
       "      <th>8</th>\n",
       "      <th>9</th>\n",
       "      <th>...</th>\n",
       "      <th>20</th>\n",
       "      <th>21</th>\n",
       "      <th>22</th>\n",
       "      <th>23</th>\n",
       "      <th>24</th>\n",
       "      <th>25</th>\n",
       "      <th>26</th>\n",
       "      <th>27</th>\n",
       "      <th>28</th>\n",
       "      <th>29</th>\n",
       "    </tr>\n",
       "  </thead>\n",
       "  <tbody>\n",
       "    <tr>\n",
       "      <th>count</th>\n",
       "      <td>5.690000e+02</td>\n",
       "      <td>5.690000e+02</td>\n",
       "      <td>5.690000e+02</td>\n",
       "      <td>5.690000e+02</td>\n",
       "      <td>5.690000e+02</td>\n",
       "      <td>5.690000e+02</td>\n",
       "      <td>5.690000e+02</td>\n",
       "      <td>5.690000e+02</td>\n",
       "      <td>5.690000e+02</td>\n",
       "      <td>5.690000e+02</td>\n",
       "      <td>...</td>\n",
       "      <td>5.690000e+02</td>\n",
       "      <td>5.690000e+02</td>\n",
       "      <td>5.690000e+02</td>\n",
       "      <td>5.690000e+02</td>\n",
       "      <td>5.690000e+02</td>\n",
       "      <td>5.690000e+02</td>\n",
       "      <td>5.690000e+02</td>\n",
       "      <td>5.690000e+02</td>\n",
       "      <td>5.690000e+02</td>\n",
       "      <td>5.690000e+02</td>\n",
       "    </tr>\n",
       "    <tr>\n",
       "      <th>mean</th>\n",
       "      <td>-3.162867e-15</td>\n",
       "      <td>-6.530609e-15</td>\n",
       "      <td>-7.078891e-16</td>\n",
       "      <td>-8.799835e-16</td>\n",
       "      <td>6.132177e-15</td>\n",
       "      <td>-1.120369e-15</td>\n",
       "      <td>-4.421380e-16</td>\n",
       "      <td>9.732500e-16</td>\n",
       "      <td>-1.971670e-15</td>\n",
       "      <td>-1.453631e-15</td>\n",
       "      <td>...</td>\n",
       "      <td>-2.333224e-15</td>\n",
       "      <td>1.763674e-15</td>\n",
       "      <td>-1.198026e-15</td>\n",
       "      <td>5.049661e-16</td>\n",
       "      <td>-5.213170e-15</td>\n",
       "      <td>-2.174788e-15</td>\n",
       "      <td>6.856456e-16</td>\n",
       "      <td>-1.412656e-16</td>\n",
       "      <td>-2.289567e-15</td>\n",
       "      <td>2.575171e-15</td>\n",
       "    </tr>\n",
       "    <tr>\n",
       "      <th>std</th>\n",
       "      <td>1.000880e+00</td>\n",
       "      <td>1.000880e+00</td>\n",
       "      <td>1.000880e+00</td>\n",
       "      <td>1.000880e+00</td>\n",
       "      <td>1.000880e+00</td>\n",
       "      <td>1.000880e+00</td>\n",
       "      <td>1.000880e+00</td>\n",
       "      <td>1.000880e+00</td>\n",
       "      <td>1.000880e+00</td>\n",
       "      <td>1.000880e+00</td>\n",
       "      <td>...</td>\n",
       "      <td>1.000880e+00</td>\n",
       "      <td>1.000880e+00</td>\n",
       "      <td>1.000880e+00</td>\n",
       "      <td>1.000880e+00</td>\n",
       "      <td>1.000880e+00</td>\n",
       "      <td>1.000880e+00</td>\n",
       "      <td>1.000880e+00</td>\n",
       "      <td>1.000880e+00</td>\n",
       "      <td>1.000880e+00</td>\n",
       "      <td>1.000880e+00</td>\n",
       "    </tr>\n",
       "    <tr>\n",
       "      <th>min</th>\n",
       "      <td>-2.029648e+00</td>\n",
       "      <td>-2.229249e+00</td>\n",
       "      <td>-1.984504e+00</td>\n",
       "      <td>-1.454443e+00</td>\n",
       "      <td>-3.112085e+00</td>\n",
       "      <td>-1.610136e+00</td>\n",
       "      <td>-1.114873e+00</td>\n",
       "      <td>-1.261820e+00</td>\n",
       "      <td>-2.744117e+00</td>\n",
       "      <td>-1.819865e+00</td>\n",
       "      <td>...</td>\n",
       "      <td>-1.726901e+00</td>\n",
       "      <td>-2.223994e+00</td>\n",
       "      <td>-1.693361e+00</td>\n",
       "      <td>-1.222423e+00</td>\n",
       "      <td>-2.682695e+00</td>\n",
       "      <td>-1.443878e+00</td>\n",
       "      <td>-1.305831e+00</td>\n",
       "      <td>-1.745063e+00</td>\n",
       "      <td>-2.160960e+00</td>\n",
       "      <td>-1.601839e+00</td>\n",
       "    </tr>\n",
       "    <tr>\n",
       "      <th>25%</th>\n",
       "      <td>-6.893853e-01</td>\n",
       "      <td>-7.259631e-01</td>\n",
       "      <td>-6.919555e-01</td>\n",
       "      <td>-6.671955e-01</td>\n",
       "      <td>-7.109628e-01</td>\n",
       "      <td>-7.470860e-01</td>\n",
       "      <td>-7.437479e-01</td>\n",
       "      <td>-7.379438e-01</td>\n",
       "      <td>-7.032397e-01</td>\n",
       "      <td>-7.226392e-01</td>\n",
       "      <td>...</td>\n",
       "      <td>-6.749213e-01</td>\n",
       "      <td>-7.486293e-01</td>\n",
       "      <td>-6.895783e-01</td>\n",
       "      <td>-6.421359e-01</td>\n",
       "      <td>-6.912304e-01</td>\n",
       "      <td>-6.810833e-01</td>\n",
       "      <td>-7.565142e-01</td>\n",
       "      <td>-7.563999e-01</td>\n",
       "      <td>-6.418637e-01</td>\n",
       "      <td>-6.919118e-01</td>\n",
       "    </tr>\n",
       "    <tr>\n",
       "      <th>50%</th>\n",
       "      <td>-2.150816e-01</td>\n",
       "      <td>-1.046362e-01</td>\n",
       "      <td>-2.359800e-01</td>\n",
       "      <td>-2.951869e-01</td>\n",
       "      <td>-3.489108e-02</td>\n",
       "      <td>-2.219405e-01</td>\n",
       "      <td>-3.422399e-01</td>\n",
       "      <td>-3.977212e-01</td>\n",
       "      <td>-7.162650e-02</td>\n",
       "      <td>-1.782793e-01</td>\n",
       "      <td>...</td>\n",
       "      <td>-2.690395e-01</td>\n",
       "      <td>-4.351564e-02</td>\n",
       "      <td>-2.859802e-01</td>\n",
       "      <td>-3.411812e-01</td>\n",
       "      <td>-4.684277e-02</td>\n",
       "      <td>-2.695009e-01</td>\n",
       "      <td>-2.182321e-01</td>\n",
       "      <td>-2.234689e-01</td>\n",
       "      <td>-1.274095e-01</td>\n",
       "      <td>-2.164441e-01</td>\n",
       "    </tr>\n",
       "    <tr>\n",
       "      <th>75%</th>\n",
       "      <td>4.693926e-01</td>\n",
       "      <td>5.841756e-01</td>\n",
       "      <td>4.996769e-01</td>\n",
       "      <td>3.635073e-01</td>\n",
       "      <td>6.361990e-01</td>\n",
       "      <td>4.938569e-01</td>\n",
       "      <td>5.260619e-01</td>\n",
       "      <td>6.469351e-01</td>\n",
       "      <td>5.307792e-01</td>\n",
       "      <td>4.709834e-01</td>\n",
       "      <td>...</td>\n",
       "      <td>5.220158e-01</td>\n",
       "      <td>6.583411e-01</td>\n",
       "      <td>5.402790e-01</td>\n",
       "      <td>3.575891e-01</td>\n",
       "      <td>5.975448e-01</td>\n",
       "      <td>5.396688e-01</td>\n",
       "      <td>5.311411e-01</td>\n",
       "      <td>7.125100e-01</td>\n",
       "      <td>4.501382e-01</td>\n",
       "      <td>4.507624e-01</td>\n",
       "    </tr>\n",
       "    <tr>\n",
       "      <th>max</th>\n",
       "      <td>3.971288e+00</td>\n",
       "      <td>4.651889e+00</td>\n",
       "      <td>3.976130e+00</td>\n",
       "      <td>5.250529e+00</td>\n",
       "      <td>4.770911e+00</td>\n",
       "      <td>4.568425e+00</td>\n",
       "      <td>4.243589e+00</td>\n",
       "      <td>3.927930e+00</td>\n",
       "      <td>4.484751e+00</td>\n",
       "      <td>4.910919e+00</td>\n",
       "      <td>...</td>\n",
       "      <td>4.094189e+00</td>\n",
       "      <td>3.885905e+00</td>\n",
       "      <td>4.287337e+00</td>\n",
       "      <td>5.930172e+00</td>\n",
       "      <td>3.955374e+00</td>\n",
       "      <td>5.112877e+00</td>\n",
       "      <td>4.700669e+00</td>\n",
       "      <td>2.685877e+00</td>\n",
       "      <td>6.046041e+00</td>\n",
       "      <td>6.846856e+00</td>\n",
       "    </tr>\n",
       "  </tbody>\n",
       "</table>\n",
       "<p>8 rows × 30 columns</p>\n",
       "</div>"
      ],
      "text/plain": [
       "                 0             1             2             3             4   \\\n",
       "count  5.690000e+02  5.690000e+02  5.690000e+02  5.690000e+02  5.690000e+02   \n",
       "mean  -3.162867e-15 -6.530609e-15 -7.078891e-16 -8.799835e-16  6.132177e-15   \n",
       "std    1.000880e+00  1.000880e+00  1.000880e+00  1.000880e+00  1.000880e+00   \n",
       "min   -2.029648e+00 -2.229249e+00 -1.984504e+00 -1.454443e+00 -3.112085e+00   \n",
       "25%   -6.893853e-01 -7.259631e-01 -6.919555e-01 -6.671955e-01 -7.109628e-01   \n",
       "50%   -2.150816e-01 -1.046362e-01 -2.359800e-01 -2.951869e-01 -3.489108e-02   \n",
       "75%    4.693926e-01  5.841756e-01  4.996769e-01  3.635073e-01  6.361990e-01   \n",
       "max    3.971288e+00  4.651889e+00  3.976130e+00  5.250529e+00  4.770911e+00   \n",
       "\n",
       "                 5             6             7             8             9   \\\n",
       "count  5.690000e+02  5.690000e+02  5.690000e+02  5.690000e+02  5.690000e+02   \n",
       "mean  -1.120369e-15 -4.421380e-16  9.732500e-16 -1.971670e-15 -1.453631e-15   \n",
       "std    1.000880e+00  1.000880e+00  1.000880e+00  1.000880e+00  1.000880e+00   \n",
       "min   -1.610136e+00 -1.114873e+00 -1.261820e+00 -2.744117e+00 -1.819865e+00   \n",
       "25%   -7.470860e-01 -7.437479e-01 -7.379438e-01 -7.032397e-01 -7.226392e-01   \n",
       "50%   -2.219405e-01 -3.422399e-01 -3.977212e-01 -7.162650e-02 -1.782793e-01   \n",
       "75%    4.938569e-01  5.260619e-01  6.469351e-01  5.307792e-01  4.709834e-01   \n",
       "max    4.568425e+00  4.243589e+00  3.927930e+00  4.484751e+00  4.910919e+00   \n",
       "\n",
       "           ...                 20            21            22            23  \\\n",
       "count      ...       5.690000e+02  5.690000e+02  5.690000e+02  5.690000e+02   \n",
       "mean       ...      -2.333224e-15  1.763674e-15 -1.198026e-15  5.049661e-16   \n",
       "std        ...       1.000880e+00  1.000880e+00  1.000880e+00  1.000880e+00   \n",
       "min        ...      -1.726901e+00 -2.223994e+00 -1.693361e+00 -1.222423e+00   \n",
       "25%        ...      -6.749213e-01 -7.486293e-01 -6.895783e-01 -6.421359e-01   \n",
       "50%        ...      -2.690395e-01 -4.351564e-02 -2.859802e-01 -3.411812e-01   \n",
       "75%        ...       5.220158e-01  6.583411e-01  5.402790e-01  3.575891e-01   \n",
       "max        ...       4.094189e+00  3.885905e+00  4.287337e+00  5.930172e+00   \n",
       "\n",
       "                 24            25            26            27            28  \\\n",
       "count  5.690000e+02  5.690000e+02  5.690000e+02  5.690000e+02  5.690000e+02   \n",
       "mean  -5.213170e-15 -2.174788e-15  6.856456e-16 -1.412656e-16 -2.289567e-15   \n",
       "std    1.000880e+00  1.000880e+00  1.000880e+00  1.000880e+00  1.000880e+00   \n",
       "min   -2.682695e+00 -1.443878e+00 -1.305831e+00 -1.745063e+00 -2.160960e+00   \n",
       "25%   -6.912304e-01 -6.810833e-01 -7.565142e-01 -7.563999e-01 -6.418637e-01   \n",
       "50%   -4.684277e-02 -2.695009e-01 -2.182321e-01 -2.234689e-01 -1.274095e-01   \n",
       "75%    5.975448e-01  5.396688e-01  5.311411e-01  7.125100e-01  4.501382e-01   \n",
       "max    3.955374e+00  5.112877e+00  4.700669e+00  2.685877e+00  6.046041e+00   \n",
       "\n",
       "                 29  \n",
       "count  5.690000e+02  \n",
       "mean   2.575171e-15  \n",
       "std    1.000880e+00  \n",
       "min   -1.601839e+00  \n",
       "25%   -6.919118e-01  \n",
       "50%   -2.164441e-01  \n",
       "75%    4.507624e-01  \n",
       "max    6.846856e+00  \n",
       "\n",
       "[8 rows x 30 columns]"
      ]
     },
     "execution_count": 16,
     "metadata": {},
     "output_type": "execute_result"
    }
   ],
   "source": [
    "scaler = StandardScaler()\n",
    "scaler.fit(data)\n",
    "data_s = scaler.transform(data)\n",
    "\n",
    "df = pd.DataFrame(data_s)\n",
    "df.describe()"
   ]
  },
  {
   "cell_type": "code",
   "execution_count": 20,
   "metadata": {},
   "outputs": [
    {
     "data": {
      "text/plain": [
       "Text(0.5, 1.0, 'PCA of Breast Cancer dataset')"
      ]
     },
     "execution_count": 20,
     "metadata": {},
     "output_type": "execute_result"
    },
    {
     "data": {
      "image/png": "[encoded data removed]",
      "text/plain": [
       "<Figure size 432x288 with 1 Axes>"
      ]
     },
     "metadata": {
      "needs_background": "light"
     },
     "output_type": "display_data"
    }
   ],
   "source": [
    "pca = PCA(n_components=2)\n",
    "X_r = pca.fit_transform(data_s)\n",
    "\n",
    "colors = ['navy', 'turquoise', 'darkorange']\n",
    "for color, i, target_name in zip(colors, [0, 1], breast_cancer.target_names):\n",
    "    plt.scatter(X_r[target == i, 0], X_r[target == i, 1], color=color, alpha=.8, label=target_name)\n",
    "plt.legend(loc='best', shadow=False, scatterpoints=1)\n",
    "plt.title('PCA of Breast Cancer dataset')"
   ]
  },
  {
   "cell_type": "markdown",
   "metadata": {},
   "source": [
    "Os dados agora estão todos muito próximos de 0 com desvio padrão 1, e isso melhora a disposição gráfica como pode ser visto na imagem. Não há mais tanto aglomeração, e existe separações lineares mais visíveis. Isso são fortes indícios de que agora um método de aprendizagem terá melhor desempenho. No entanto, enquanto para visualizar o StandardScaler foi aplicado em toda a base, é importante perceber que ao testar o modelo, **o StandardScaler só pode ter dados de treino no fit**. Ou seja, ele não pode conhecer a disposição dos dados de teste."
   ]
  },
  {
   "cell_type": "code",
   "execution_count": 21,
   "metadata": {},
   "outputs": [
    {
     "name": "stdout",
     "output_type": "stream",
     "text": [
      "Acurácia: 96.13 +- 0.26\n"
     ]
    }
   ],
   "source": [
    "# utilizando validação cruzada com KFold estratificado\n",
    "\n",
    "from sklearn.model_selection import StratifiedKFold\n",
    "kf = StratifiedKFold(n_splits = best_model.get_params()['n_neighbors'])\n",
    "\n",
    "acc = []\n",
    "for train_index, test_index in kf.split(data, target): # precisa passar as classes agora para que a divisão aconteça\n",
    "    knn = KNeighborsClassifier(n_neighbors = best_model.get_params()['n_neighbors'])\n",
    "    \n",
    "    scaler = StandardScaler()\n",
    "    train = scaler.fit_transform(data[train_index]) # somente dados de treino no fit\n",
    "    test = scaler.transform(data[test_index]) # aplica-se transform no teste apenas\n",
    "    \n",
    "    knn.fit(train,target[train_index])\n",
    "    y_pred = knn.predict(test)\n",
    "    acc.append(accuracy_score(y_pred,target[test_index]))\n",
    "\n",
    "acc = np.asarray(acc) # converte pra numpy pra ficar mais simples de usar média e desvio padrão\n",
    "print('Acurácia: %.2f +- %.2f' % (acc.mean() * 100, acc.std() * 100))"
   ]
  },
  {
   "cell_type": "code",
   "execution_count": 22,
   "metadata": {},
   "outputs": [
    {
     "name": "stdout",
     "output_type": "stream",
     "text": [
      "Acurácia: 95.42 +- 1.82\n"
     ]
    }
   ],
   "source": [
    "from sklearn.model_selection import StratifiedKFold\n",
    "kf = StratifiedKFold(n_splits = 5)\n",
    "\n",
    "acc = []\n",
    "for train_index, test_index in kf.split(data, target): # precisa passar as classes agora para que a divisão aconteça\n",
    "    knn = KNeighborsClassifier(n_neighbors = 1)\n",
    "    \n",
    "    scaler = StandardScaler()\n",
    "    train = scaler.fit_transform(data[train_index]) # somente dados de treino no fit\n",
    "    test = scaler.transform(data[test_index]) # aplica-se transform no teste apenas\n",
    "    \n",
    "    knn.fit(train,target[train_index])\n",
    "    y_pred = knn.predict(test)\n",
    "    acc.append(accuracy_score(y_pred,target[test_index]))\n",
    "\n",
    "acc = np.asarray(acc) # converte pra numpy pra ficar mais simples de usar média e desvio padrão\n",
    "print('Acurácia: %.2f +- %.2f' % (acc.mean() * 100, acc.std() * 100))"
   ]
  },
  {
   "cell_type": "code",
   "execution_count": 23,
   "metadata": {},
   "outputs": [
    {
     "name": "stdout",
     "output_type": "stream",
     "text": [
      "Acurácia: 96.31 +- 0.43\n"
     ]
    }
   ],
   "source": [
    "# utilizando validação cruzada com cross_val_score\n",
    "\n",
    "from sklearn.model_selection import cross_val_score\n",
    "\n",
    "from sklearn.pipeline import Pipeline\n",
    "pipeline = Pipeline([('scaler', StandardScaler()), ('clf', KNeighborsClassifier())])\n",
    "scores = cross_val_score(pipeline, data, target, cv=best_model.get_params()['n_neighbors']) # 5 execuções diferentes com 20% dos dados para teste\n",
    "\n",
    "print('Acurácia: %.2f +- %.2f' % (scores.mean() * 100, scores.std() * 100))"
   ]
  },
  {
   "cell_type": "code",
   "execution_count": 24,
   "metadata": {},
   "outputs": [
    {
     "name": "stdout",
     "output_type": "stream",
     "text": [
      "Acurácia: 96.49 +- 0.96\n"
     ]
    }
   ],
   "source": [
    "# utilizando validação cruzada com cross_val_score\n",
    "\n",
    "from sklearn.model_selection import cross_val_score\n",
    "\n",
    "from sklearn.pipeline import Pipeline\n",
    "pipeline = Pipeline([('scaler', StandardScaler()), ('clf', KNeighborsClassifier())])\n",
    "scores = cross_val_score(pipeline, data, target, cv=5) # 5 execuções diferentes com 20% dos dados para teste\n",
    "\n",
    "print('Acurácia: %.2f +- %.2f' % (scores.mean() * 100, scores.std() * 100))"
   ]
  },
  {
   "cell_type": "code",
   "execution_count": 25,
   "metadata": {},
   "outputs": [
    {
     "name": "stdout",
     "output_type": "stream",
     "text": [
      "Acurácia: 95.51 +- 1.21\n"
     ]
    }
   ],
   "source": [
    "# utilizando validação cruzada com KFold estratificado\n",
    "\n",
    "# separa-se uma parcela para encontrar os melhores parâmetros (10% do original)\n",
    "data_gs, data_cv, target_gs, target_cv = train_test_split(data, target, test_size=0.9, random_state=42, stratify=target)\n",
    "\n",
    "# uma forma automática de StandardScaler + KNN\n",
    "from sklearn.pipeline import Pipeline\n",
    "pipeline = Pipeline([('scaler', StandardScaler()), ('clf', KNeighborsClassifier())])\n",
    "\n",
    "# utiliza-se GridSearchCV para achar os melhores parâmetros\n",
    "from sklearn.model_selection import GridSearchCV\n",
    "parameters = {'clf__n_neighbors': [1,2,3,4,5], 'clf__weights' : ['uniform','distance']} # quais parâmetros e quais valores serão testados\n",
    "clf = GridSearchCV(pipeline, parameters, cv=best_model.get_params()['n_neighbors'], iid=False) # clf vai armazenar qual foi a melhor configuração\n",
    "clf.fit(data_gs, target_gs)\n",
    "\n",
    "# utilizando validação cruzada para avaliar o modelo\n",
    "scores = cross_val_score(clf, data_cv, target_cv, cv=best_model.get_params()['n_neighbors'])\n",
    "\n",
    "print('Acurácia: %.2f +- %.2f' % (scores.mean() * 100, scores.std() * 100))"
   ]
  },
  {
   "cell_type": "code",
   "execution_count": 26,
   "metadata": {},
   "outputs": [
    {
     "name": "stdout",
     "output_type": "stream",
     "text": [
      "Acurácia: 95.71 +- 1.16\n"
     ]
    }
   ],
   "source": [
    "# separa-se uma parcela para encontrar os melhores parâmetros (10% do original)\n",
    "data_gs, data_cv, target_gs, target_cv = train_test_split(data, target, test_size=0.9, random_state=42, stratify=target)\n",
    "\n",
    "# uma forma automática de StandardScaler + KNN\n",
    "from sklearn.pipeline import Pipeline\n",
    "pipeline = Pipeline([('scaler', StandardScaler()), ('clf', KNeighborsClassifier())])\n",
    "\n",
    "# utiliza-se GridSearchCV para achar os melhores parâmetros\n",
    "from sklearn.model_selection import GridSearchCV\n",
    "parameters = {'clf__n_neighbors': [1,2,3,4,5], 'clf__weights' : ['uniform','distance']} # quais parâmetros e quais valores serão testados\n",
    "clf = GridSearchCV(pipeline, parameters, cv=3, iid=False) # clf vai armazenar qual foi a melhor configuração\n",
    "clf.fit(data_gs, target_gs)\n",
    "\n",
    "# utilizando validação cruzada para avaliar o modelo\n",
    "scores = cross_val_score(clf, data_cv, target_cv, cv=5)\n",
    "\n",
    "print('Acurácia: %.2f +- %.2f' % (scores.mean() * 100, scores.std() * 100))"
   ]
  },
  {
   "cell_type": "code",
   "execution_count": null,
   "metadata": {},
   "outputs": [],
   "source": [
    "## Final"
   ]
  }
 ],
 "metadata": {
  "kernelspec": {
   "display_name": "Python 3",
   "language": "python",
   "name": "python3"
  },
  "language_info": {
   "codemirror_mode": {
    "name": "ipython",
    "version": 3
   },
   "file_extension": ".py",
   "mimetype": "text/x-python",
   "name": "python",
   "nbconvert_exporter": "python",
   "pygments_lexer": "ipython3",
   "version": "3.7.1"
  }
 },
 "nbformat": 4,
 "nbformat_minor": 2
}
