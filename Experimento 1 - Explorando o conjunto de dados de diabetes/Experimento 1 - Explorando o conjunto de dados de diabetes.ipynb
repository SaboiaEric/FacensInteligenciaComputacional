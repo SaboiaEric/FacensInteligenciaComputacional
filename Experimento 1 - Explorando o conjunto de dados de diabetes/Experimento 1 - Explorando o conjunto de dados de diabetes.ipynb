{
 "cells": [
  {
   "cell_type": "markdown",
   "metadata": {},
   "source": [
    "# Experimento 1 - Explorando o conjunto de dados de diabetes\n",
    "#### Curso de Engenharia da Computação - Inteligência Computacional -  \n",
    "##### Professor: Johannes Von Lochter\n",
    "##### Aluno: Bruno Sampaio  - RA 140008\n",
    "##### Aluno: Eric Saboia        - RA 140730  \n",
    "\n",
    "---"
   ]
  },
  {
   "cell_type": "code",
   "execution_count": null,
   "metadata": {},
   "outputs": [],
   "source": []
  }
 ],
 "metadata": {
  "kernelspec": {
   "display_name": "Python 3",
   "language": "python",
   "name": "python3"
  },
  "language_info": {
   "codemirror_mode": {
    "name": "ipython",
    "version": 3
   },
   "file_extension": ".py",
   "mimetype": "text/x-python",
   "name": "python",
   "nbconvert_exporter": "python",
   "pygments_lexer": "ipython3",
   "version": "3.7.1"
  }
 },
 "nbformat": 4,
 "nbformat_minor": 2
}
