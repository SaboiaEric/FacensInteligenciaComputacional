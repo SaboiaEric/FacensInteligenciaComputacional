{
 "cells": [
  {
   "cell_type": "markdown",
   "metadata": {},
   "source": [
    "# Experimento 1 - Explorando o conjunto de dados de diabetes\n",
    "#### Curso de Engenharia da Computação - Inteligência Computacional -  \n",
    "##### Professor: Johannes Von Lochter\n",
    "##### Aluno: Bruno Sampaio  - RA 140004\n",
    "##### Aluno: Eric Saboia        - RA 140730  \n",
    "\n",
    "##### Link de referência do relatório técnico: (em desenvolvimento)\n",
    "\n",
    "---"
   ]
  },
  {
   "cell_type": "markdown",
   "metadata": {},
   "source": [
    "## Introdução:\n",
    "##### Utilizando-se de métodos diferentes, mais simples ou mais avançados os problemas abordados tanto no experimento e tanto pelos autores pesquisados referenciados no relatório possuem alguns pontos em comum:\n",
    "###### 1 - Conhecer o problema a ser resolvido e saber quais dados serão necessários;\n",
    "---\n",
    "##### 2 - Fazer a aquisição dos dados (podendo ou não fazer a validação dos dados);\n",
    "---\n",
    "##### 3 - Preparar os dados para ser utilizado no modelo;\n",
    "---\n",
    "##### 4 - Treinar o modelo com dados de treinamento;\n",
    "---\n",
    "##### 5 - Fazer predições sobre os dados de teste;\n",
    "---\n",
    "##### 6 - Comparar as previsões com as metas conhecidas do conjunto de teste e calcular as métricas de desempenho;\n",
    "---\n",
    "##### 7 - Se o desempenho não for satisfatório, ajuste o modelo, adquira mais dados ou tente uma técnica de modelagem diferente;\n",
    "---\n",
    "##### 8 - Interpretar o modelo e reportar resultados visivelmente e numericamente.\n",
    "---\n",
    "\n",
    "#### Portanto, esses pontos serão adotados como pilares para nos guiarmos neste experimento.\n",
    "\n"
   ]
  },
  {
   "cell_type": "markdown",
   "metadata": {},
   "source": [
    "## Processo anteriores simplificadas pelo professor em aula para direcionar-mos os esforços em responder as questões do experimentos\n",
    "##### (Nota de aula) - Para este experimento foi definido em aula que a amostra utilizada será de 310 registros.\n",
    "----"
   ]
  },
  {
   "cell_type": "code",
   "execution_count": 30,
   "metadata": {},
   "outputs": [],
   "source": [
    "import pandas as pd\n",
    "import matplotlib.pyplot as plt\n",
    "import seaborn as sns\n",
    "import numpy as np\n",
    "from sklearn import datasets\n",
    "from sklearn.linear_model import Lasso\n",
    "from sklearn import linear_model, datasets\n",
    "from sklearn.model_selection import GridSearchCV\n",
    "\n",
    "diabetes = datasets.load_diabetes()\n",
    "diabetes_csv = pd.read_csv('diabetes.csv')"
   ]
  },
  {
   "cell_type": "code",
   "execution_count": 31,
   "metadata": {},
   "outputs": [],
   "source": [
    "X_train = diabetes.data[:310]\n",
    "y_train = diabetes.target[:310]\n",
    "\n",
    "X_test = diabetes.data[310:]\n",
    "y_test = diabetes.target[310:]"
   ]
  },
  {
   "cell_type": "code",
   "execution_count": 32,
   "metadata": {},
   "outputs": [],
   "source": [
    "# Q1: \n",
    "# Resp.:  À medida que a regularização aumenta, o desempenho no treino diminui \n",
    "#         enquanto o desempenho no teste é mantido dentro de um intervalo de valores do parâmetro de regularização. \n",
    "learner = Lasso(random_state=0)\n",
    "alphas = np.logspace(-4, -0.5, 30)\n",
    "\n",
    "train_error = list()\n",
    "test_error = list()\n",
    "\n",
    "for alpha in alphas:\n",
    "    learner.set_params(alpha=alpha)\n",
    "    learner.fit(X_train, y_train)\n",
    "    train_error.append(learner.score(X_train, y_train))\n",
    "    test_error.append(learner.score(X_test, y_test))"
   ]
  },
  {
   "cell_type": "code",
   "execution_count": 33,
   "metadata": {},
   "outputs": [
    {
     "data": {
      "text/plain": [
       "array([182.07270213, 173.53214671, 118.81120601, 214.38482284,\n",
       "       165.362948  , 124.49535075, 199.8364439 , 154.82562509,\n",
       "       157.98406194, 169.19267794, 185.18125323, 245.29136267,\n",
       "       266.4512712 , 224.14041592, 193.60984871, 217.60139214,\n",
       "       161.90029863, 212.33408028, 178.80234889, 112.8290571 ,\n",
       "       166.82927298, 116.94197925, 249.45095923, 172.28644207,\n",
       "        93.84179262,  94.50809336, 237.24950287, 160.64398242,\n",
       "       121.93813971, 160.80104509, 142.45948175, 179.92396687,\n",
       "       161.24465037, 140.97401165, 145.90585615, 146.6866723 ,\n",
       "       198.26086639, 128.48094863, 128.720854  ,  94.76108131,\n",
       "       232.19476261,  98.382936  ,  88.33978403, 184.7704205 ,\n",
       "       215.10256376, 133.51713981, 117.28176029, 206.23605524,\n",
       "        60.44391336, 168.55674188, 172.87644089, 111.2982472 ,\n",
       "       218.4574521 , 154.8303395 , 157.18089041, 147.17143559,\n",
       "       259.3433268 , 259.64703251, 200.2038545 , 167.72502963,\n",
       "        77.91105535, 214.57171693, 129.99464575, 124.98817844,\n",
       "       125.00955242, 175.92132208, 211.66391318, 169.56398889,\n",
       "       168.28816027, 109.76389833, 148.50319606,  93.15809386,\n",
       "       236.37079312, 126.14682889, 146.24714903, 135.01378473,\n",
       "       109.2709021 , 100.60814795, 161.89343787, 116.62594467,\n",
       "       250.95209156,  61.85536536, 114.5719623 , 101.71294462,\n",
       "       240.41669462, 163.98637592,  82.96358346, 165.51469649,\n",
       "       178.66284126, 190.99956587, 163.46349217,  93.85574233,\n",
       "       145.32730116, 234.00050499, 174.50203378, 250.05648367,\n",
       "        68.94837337, 171.14492474, 171.0718693 , 172.07043803,\n",
       "       174.45791474, 148.92823098, 205.65698161, 126.08327982,\n",
       "       185.08156227, 161.57137715, 192.48491295, 155.13088681,\n",
       "       119.25427011,  79.09795809, 120.81366228, 191.92093742,\n",
       "       216.4586349 , 149.64763715, 171.27463759, 108.74352139,\n",
       "       160.69717654, 131.79549584, 243.72205261, 114.31876915,\n",
       "       114.27492748, 128.3194425 , 207.88980378,  80.99397186,\n",
       "       128.42568971, 117.33993539,  68.90305903, 187.79735023,\n",
       "       128.50828834, 124.65049551, 197.21750972,  86.85495427])"
      ]
     },
     "execution_count": 33,
     "metadata": {},
     "output_type": "execute_result"
    }
   ],
   "source": [
    "y_pred = learner.predict(X_test)\n",
    "y_pred"
   ]
  },
  {
   "cell_type": "code",
   "execution_count": 36,
   "metadata": {},
   "outputs": [
    {
     "data": {
      "text/plain": [
       "44.33001777922508"
      ]
     },
     "execution_count": 36,
     "metadata": {},
     "output_type": "execute_result"
    }
   ],
   "source": [
    "np.mean(abs(y_pred - y_test))"
   ]
  },
  {
   "cell_type": "code",
   "execution_count": 38,
   "metadata": {},
   "outputs": [
    {
     "data": {
      "text/plain": [
       "0.5140444381465841"
      ]
     },
     "execution_count": 38,
     "metadata": {},
     "output_type": "execute_result"
    }
   ],
   "source": [
    "#media dos erros calculados para treino\n",
    "np.average(train_error)"
   ]
  },
  {
   "cell_type": "code",
   "execution_count": 39,
   "metadata": {},
   "outputs": [
    {
     "data": {
      "text/plain": [
       "0.507503318722735"
      ]
     },
     "execution_count": 39,
     "metadata": {},
     "output_type": "execute_result"
    }
   ],
   "source": [
    "#media dos erros calculados para treino\n",
    "np.average(test_error)"
   ]
  }
 ],
 "metadata": {
  "kernelspec": {
   "display_name": "Python 3",
   "language": "python",
   "name": "python3"
  },
  "language_info": {
   "codemirror_mode": {
    "name": "ipython",
    "version": 3
   },
   "file_extension": ".py",
   "mimetype": "text/x-python",
   "name": "python",
   "nbconvert_exporter": "python",
   "pygments_lexer": "ipython3",
   "version": "3.7.1"
  }
 },
 "nbformat": 4,
 "nbformat_minor": 2
}
