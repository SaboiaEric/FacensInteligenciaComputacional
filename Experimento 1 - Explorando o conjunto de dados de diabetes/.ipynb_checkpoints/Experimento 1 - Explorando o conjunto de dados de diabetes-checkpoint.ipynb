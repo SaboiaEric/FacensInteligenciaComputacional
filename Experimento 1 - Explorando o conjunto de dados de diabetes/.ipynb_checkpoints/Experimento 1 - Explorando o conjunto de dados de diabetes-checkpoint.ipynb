{
 "cells": [
  {
   "cell_type": "markdown",
   "metadata": {},
   "source": [
    "# Experimento 1 - Explorando o conjunto de dados de diabetes\n",
    "#### Curso de Engenharia da Computação - Inteligência Computacional -  \n",
    "##### Professor: Johannes Von Lochter\n",
    "##### Aluno: Bruno Sampaio  - RA 140004\n",
    "##### Aluno: Eric Saboia        - RA 140730  \n",
    "\n",
    "##### Link de referência do relatório técnico: (em desenvolvimento)\n",
    "\n",
    "---"
   ]
  },
  {
   "cell_type": "markdown",
   "metadata": {},
   "source": [
    "## Introdução:\n",
    "##### Utilizando-se de métodos diferentes, mais simples ou mais avançados os problemas abordados tanto no experimento e tanto pelos autores pesquisados referenciados no relatório possuem alguns pontos em comum:\n",
    "###### 1 - Conhecer o problema a ser resolvido e saber quais dados serão necessários;\n",
    "---\n",
    "##### 2 - Fazer a aquisição dos dados (podendo ou não fazer a validação dos dados);\n",
    "---\n",
    "##### 3 - Preparar os dados para ser utilizado no modelo;\n",
    "---\n",
    "##### 4 - Treinar o modelo com dados de treinamento;\n",
    "---\n",
    "##### 5 - Fazer predições sobre os dados de teste;\n",
    "---\n",
    "##### 6 - Comparar as previsões com as metas conhecidas do conjunto de teste e calcular as métricas de desempenho;\n",
    "---\n",
    "##### 7 - Se o desempenho não for satisfatório, ajuste o modelo, adquira mais dados ou tente uma técnica de modelagem diferente;\n",
    "---\n",
    "##### 8 - Interpretar o modelo e reportar resultados visivelmente e numericamente.\n",
    "---\n",
    "\n",
    "#### Portanto, esses pontos serão adotados como pilares para nos guiarmos neste experimento.\n",
    "\n"
   ]
  },
  {
   "cell_type": "markdown",
   "metadata": {},
   "source": [
    "## 1 - Conhecendo o problema\n",
    "----\n",
    "## 2 - Fazendo a aquisição dos dados\n",
    "### Podendo ou não fazer a validação dos dados\n",
    "\n",
    "##### (Nota de aula) - Para este experimento foi definido em aula que a amostra utilizada será de 310 registros.\n",
    "----"
   ]
  },
  {
   "cell_type": "code",
   "execution_count": 1,
   "metadata": {},
   "outputs": [],
   "source": [
    "from sklearn import datasets\n",
    "import numpy as np\n",
    "from sklearn.linear_model import Lasso\n",
    "\n",
    "from sklearn import linear_model, datasets\n",
    "from sklearn.model_selection import GridSearchCV\n",
    "\n",
    "diabetes = datasets.load_diabetes()\n",
    "X_train = diabetes.data[:310]\n",
    "y_train = diabetes.target[:310]\n",
    "\n",
    "X_test = diabetes.data[310:]\n",
    "y_test = diabetes.target[310:]"
   ]
  },
  {
   "cell_type": "code",
   "execution_count": null,
   "metadata": {},
   "outputs": [],
   "source": [
    "learner = Lasso(random_state=0)\n",
    "alphas = np.logspace(-4, -0.5, 30)\n",
    "\n",
    "learner.fit(X_train, y_train)"
   ]
  },
  {
   "cell_type": "code",
   "execution_count": null,
   "metadata": {},
   "outputs": [],
   "source": [
    "y_pred = learner.predict(X_test)\n",
    "y_pred"
   ]
  },
  {
   "cell_type": "code",
   "execution_count": null,
   "metadata": {},
   "outputs": [],
   "source": [
    "np.mean(abs(y_pred - y_test))"
   ]
  }
 ],
 "metadata": {
  "kernelspec": {
   "display_name": "Python 3",
   "language": "python",
   "name": "python3"
  },
  "language_info": {
   "codemirror_mode": {
    "name": "ipython",
    "version": 3
   },
   "file_extension": ".py",
   "mimetype": "text/x-python",
   "name": "python",
   "nbconvert_exporter": "python",
   "pygments_lexer": "ipython3",
   "version": "3.7.1"
  }
 },
 "nbformat": 4,
 "nbformat_minor": 2
}
