{
 "cells": [
  {
   "cell_type": "markdown",
   "metadata": {},
   "source": [
    "# Aula 02 - Análise Exploratória de Dados\n",
    "\n",
    "---\n",
    "\n",
    "\n",
    "## Pandas e Arquivos"
   ]
  },
  {
   "cell_type": "code",
   "execution_count": null,
   "metadata": {},
   "outputs": [],
   "source": [
    "import numpy as np\n",
    "import pandas as pd\n",
    "\n",
    "from sklearn import datasets\n",
    "df_dataset = pd.read_csv('iris.csv', sep=',', index_col=None) "
   ]
  },
  {
   "cell_type": "code",
   "execution_count": null,
   "metadata": {},
   "outputs": [],
   "source": [
    "df_dataset.shape"
   ]
  },
  {
   "cell_type": "code",
   "execution_count": null,
   "metadata": {},
   "outputs": [],
   "source": [
    "df_dataset.head(n=5)"
   ]
  },
  {
   "cell_type": "code",
   "execution_count": null,
   "metadata": {},
   "outputs": [],
   "source": [
    "df_dataset.describe()"
   ]
  },
  {
   "cell_type": "code",
   "execution_count": null,
   "metadata": {},
   "outputs": [],
   "source": [
    "classe = df_dataset[\"classe\"]\n",
    "classe.describe()"
   ]
  },
  {
   "cell_type": "code",
   "execution_count": null,
   "metadata": {},
   "outputs": [],
   "source": [
    "classe.unique()"
   ]
  },
  {
   "cell_type": "code",
   "execution_count": null,
   "metadata": {},
   "outputs": [],
   "source": [
    "df_amostrasSetosa = df_dataset[ df_dataset[\"classe\"] == \"Iris-setosa\"]\n",
    "df_amostrasSetosa.shape"
   ]
  },
  {
   "cell_type": "code",
   "execution_count": null,
   "metadata": {},
   "outputs": [],
   "source": [
    "display(df_dataset.describe())\n",
    "display(df_amostrasSetosa.describe())"
   ]
  },
  {
   "cell_type": "code",
   "execution_count": null,
   "metadata": {},
   "outputs": [],
   "source": [
    "# encontra as classes do conjunto\n",
    "classes = df_dataset['classe'].unique()\n",
    "print('\\nClasses do problema: ', classes)\n",
    "\n",
    "# conta a quantidade de dados em cada classe\n",
    "for classe in classes:\n",
    "    df_classe = df_dataset[ df_dataset['classe'] == classe]\n",
    "    \n",
    "    print('Qtd. de dados da classe %s: %d' %(classe, df_classe.count().values[0]))"
   ]
  },
  {
   "cell_type": "code",
   "execution_count": null,
   "metadata": {},
   "outputs": [],
   "source": [
    "df_dataset.boxplot(figsize=(15,7))\n",
    "# mais informacoes sobre boxplot: https://towardsdatascience.com/understanding-boxplots-5e2df7bcbd51"
   ]
  },
  {
   "cell_type": "markdown",
   "metadata": {},
   "source": [
    "## Seaborn"
   ]
  },
  {
   "cell_type": "code",
   "execution_count": null,
   "metadata": {},
   "outputs": [],
   "source": [
    "import seaborn as sns\n",
    "import matplotlib.pyplot as plt\n",
    "\n",
    "# matriz de gráficos scatter \n",
    "sns.pairplot(df_dataset, hue='classe', height=3.5); # size -> height\n",
    "\n",
    "# mostra o gráfico usando a função show() da matplotlib\n",
    "plt.show()"
   ]
  },
  {
   "cell_type": "code",
   "execution_count": null,
   "metadata": {},
   "outputs": [],
   "source": [
    "#scatter plot\n",
    "sns.lmplot(x='comprimento_sepala', y='largura_petala', data=df_dataset, \n",
    "           fit_reg=False,\n",
    "           hue='classe')\n",
    "\n",
    "# cria um título para o gráfico\n",
    "plt.title('Comprimento vs largura da sépala.')\n",
    "\n",
    "# mostra o gráfico\n",
    "plt.show()"
   ]
  },
  {
   "cell_type": "code",
   "execution_count": null,
   "metadata": {},
   "outputs": [],
   "source": [
    "# define a dimensão do gráfico\n",
    "plt.figure(figsize=(10,7))\n",
    "\n",
    "# cria o boxplot\n",
    "sns.boxplot(x=\"classe\", y=\"comprimento_sepala\", data=df_dataset, whis=1.5)\n",
    "\n",
    "#mostra o gráfico\n",
    "plt.show()"
   ]
  },
  {
   "cell_type": "code",
   "execution_count": null,
   "metadata": {},
   "outputs": [],
   "source": [
    "# cria um gráfico de barras com a frequência de cada classe\n",
    "sns.countplot(x=\"classe\", data=df_dataset)\n",
    "\n",
    "# mostra o gráfico\n",
    "plt.show()"
   ]
  },
  {
   "cell_type": "code",
   "execution_count": null,
   "metadata": {},
   "outputs": [],
   "source": [
    "mean = df_dataset.mean()\n",
    "\n",
    "std = df_dataset.std()\n",
    "\n",
    "# criando um gráfico de barras vertical\n",
    "plt.figure(figsize=(10,5))\n",
    "mean.plot(kind=\"bar\", rot=0, color=\"red\", fontsize=13, yerr=std);\n",
    "plt.show()\n",
    "\n",
    "# criando um gráfico de barras horizontal\n",
    "plt.figure(figsize=(10,5))\n",
    "mean.plot(kind=\"barh\", rot=0, color=\"red\", fontsize=13, xerr=std);\n",
    "plt.show()"
   ]
  },
  {
   "cell_type": "code",
   "execution_count": null,
   "metadata": {},
   "outputs": [],
   "source": [
    "# cria o histograma\n",
    "n, bins, patches = plt.hist(df_dataset['comprimento_petala'].values,bins=10, color='red', edgecolor='black', linewidth=0.9)\n",
    "\n",
    "#mostra o gráfico\n",
    "plt.show()"
   ]
  },
  {
   "cell_type": "code",
   "execution_count": null,
   "metadata": {},
   "outputs": [],
   "source": [
    "# criando o gráfico de densidade \n",
    "densityplot = df_dataset.plot(kind='density')\n",
    "\n",
    "# mostra o gráfico\n",
    "plt.show()\n",
    "\n",
    "# criando o gráfico de densidade apenas do atributo comprimento_petala\n",
    "densityplot = df_dataset['comprimento_petala'].plot(kind='density')\n",
    "\n",
    "# mostra o gráfico\n",
    "plt.show()"
   ]
  },
  {
   "cell_type": "markdown",
   "metadata": {},
   "source": [
    "## Correlação"
   ]
  },
  {
   "cell_type": "code",
   "execution_count": null,
   "metadata": {},
   "outputs": [],
   "source": [
    "# criando uma matriz X com os valores do data frame\n",
    "X = df_dataset.iloc[:,:-1].values # exceto a coluna da classe (a última = -1)\n",
    "\n",
    "# com pandas\n",
    "# matriz de correlação\n",
    "df_correlation = df_dataset.corr()\n",
    "\n",
    "print('\\n\\nMatriz de correlação: ')\n",
    "display(df_correlation)\n",
    "\n",
    "# cria um mapa de cores dos valoes da correlação\n",
    "sns.heatmap(df_correlation, annot=True,\n",
    "        xticklabels=df_correlation.columns,\n",
    "        yticklabels=df_correlation.columns)\n",
    "\n",
    "plt.title('Correlação')\n",
    "plt.show()"
   ]
  },
  {
   "cell_type": "markdown",
   "metadata": {},
   "source": [
    "## n-Vizinhos Próximos (ou k-Nearest Neighbours)"
   ]
  },
  {
   "cell_type": "code",
   "execution_count": null,
   "metadata": {},
   "outputs": [],
   "source": [
    "from sklearn.model_selection import train_test_split\n",
    "\n",
    "X = df_dataset.iloc[:,:-1].values\n",
    "y = df_dataset[\"classe\"]"
   ]
  },
  {
   "cell_type": "code",
   "execution_count": null,
   "metadata": {},
   "outputs": [],
   "source": [
    "X_train, X_test, y_train, y_test = train_test_split(X, y, test_size=0.9, random_state=2019) # 70% treino e 30% teste\n",
    "\n",
    "display(\"X_train shape:\")\n",
    "display(X_train.shape)\n",
    "\n",
    "display(\"X_test shape:\")\n",
    "display(X_test.shape)\n",
    "\n",
    "display(\"y_train shape:\")\n",
    "display(y_train.shape)\n",
    "\n",
    "display(\"y_test shape:\")\n",
    "display(y_test.shape)"
   ]
  },
  {
   "cell_type": "code",
   "execution_count": null,
   "metadata": {},
   "outputs": [],
   "source": [
    "from sklearn.neighbors import KNeighborsClassifier\n",
    "\n",
    "knn = KNeighborsClassifier(n_neighbors=5)\n",
    "knn.fit(X_train, y_train)"
   ]
  },
  {
   "cell_type": "code",
   "execution_count": null,
   "metadata": {},
   "outputs": [],
   "source": [
    "y_pred = knn.predict(X_test)\n",
    "display(y_pred)"
   ]
  },
  {
   "cell_type": "code",
   "execution_count": null,
   "metadata": {},
   "outputs": [],
   "source": [
    "from sklearn import metrics\n",
    "print(\"Acurácia:\", metrics.accuracy_score(y_test, y_pred))"
   ]
  },
  {
   "cell_type": "markdown",
   "metadata": {},
   "source": [
    "## Exercício\n",
    "\n",
    "A base de dados é muito importante para o algoritmo dos vizinhos próximos, mas inviabiliza que esse algoritmo seja utilizada em ambientes com poucos recursos de memória, por exemplo.\n",
    "**Implemente os algoritmos de inserção e remoção incremental, minimizando o número de amostras necessárias para manter o resultado alto.**"
   ]
  },
  {
   "cell_type": "code",
   "execution_count": null,
   "metadata": {},
   "outputs": [],
   "source": []
  }
 ],
 "metadata": {
  "anaconda-cloud": {},
  "kernelspec": {
   "display_name": "Python 3",
   "language": "python",
   "name": "python3"
  },
  "language_info": {
   "codemirror_mode": {
    "name": "ipython",
    "version": 3
   },
   "file_extension": ".py",
   "mimetype": "text/x-python",
   "name": "python",
   "nbconvert_exporter": "python",
   "pygments_lexer": "ipython3",
   "version": "3.6.6"
  }
 },
 "nbformat": 4,
 "nbformat_minor": 1
}
