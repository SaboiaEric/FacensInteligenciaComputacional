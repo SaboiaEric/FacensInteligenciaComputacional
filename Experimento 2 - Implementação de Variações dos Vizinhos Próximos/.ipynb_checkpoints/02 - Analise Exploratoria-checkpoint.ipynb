{
 "cells": [
  {
   "cell_type": "markdown",
   "metadata": {},
   "source": [
    "Links de referências:\n",
    " - https://www.youtube.com/watch?v=KBh4vnsCDc4 (Introdução)\n",
    " - https://www.youtube.com/watch?v=gJK4fmCvcWY (Introdução)\n",
    " - https://www.youtube.com/watch?v=4HKqjENq9OU (Completo com exemplos)"
   ]
  },
  {
   "cell_type": "markdown",
   "metadata": {},
   "source": [
    "## Exercício\n",
    "\n",
    "A base de dados é muito importante para o algoritmo dos vizinhos próximos, mas inviabiliza que esse algoritmo seja utilizada em ambientes com poucos recursos de memória, por exemplo.\n",
    "**Implemente os algoritmos de inserção e remoção incremental, minimizando o número de amostras necessárias para manter o resultado alto.**\n"
   ]
  },
  {
   "cell_type": "markdown",
   "metadata": {},
   "source": [
    "#### Algoritmo Original"
   ]
  },
  {
   "cell_type": "code",
   "execution_count": 1,
   "metadata": {},
   "outputs": [],
   "source": [
    "import numpy as np\n",
    "import pandas as pd\n",
    "\n",
    "from sklearn import datasets\n",
    "df_dataset = pd.read_csv('iris.csv', sep=',', index_col=None) "
   ]
  },
  {
   "cell_type": "code",
   "execution_count": 2,
   "metadata": {},
   "outputs": [],
   "source": [
    "from sklearn.model_selection import train_test_split\n",
    "\n",
    "X = df_dataset.iloc[:,:-1].values\n",
    "y = df_dataset[\"classe\"]"
   ]
  },
  {
   "cell_type": "code",
   "execution_count": 3,
   "metadata": {},
   "outputs": [],
   "source": [
    "X_train, X_test, y_train, y_test = train_test_split(X, y, test_size=0.9, random_state=2019)"
   ]
  },
  {
   "cell_type": "code",
   "execution_count": 4,
   "metadata": {},
   "outputs": [],
   "source": [
    "## Número de vizinho utilizados\n",
    "numero_vizinhos = 5"
   ]
  },
  {
   "cell_type": "code",
   "execution_count": 5,
   "metadata": {},
   "outputs": [
    {
     "data": {
      "text/plain": [
       "KNeighborsClassifier(algorithm='auto', leaf_size=30, metric='minkowski',\n",
       "           metric_params=None, n_jobs=None, n_neighbors=5, p=2,\n",
       "           weights='uniform')"
      ]
     },
     "execution_count": 5,
     "metadata": {},
     "output_type": "execute_result"
    }
   ],
   "source": [
    "from sklearn.neighbors import KNeighborsClassifier \n",
    "\n",
    "knn = KNeighborsClassifier(n_neighbors=numero_vizinhos)\n",
    "knn.fit(X_train, y_train)"
   ]
  },
  {
   "cell_type": "code",
   "execution_count": 6,
   "metadata": {},
   "outputs": [
    {
     "data": {
      "text/plain": [
       "array(['Iris-setosa', 'Iris-setosa', 'Iris-virginica', 'Iris-virginica',\n",
       "       'Iris-virginica', 'Iris-setosa', 'Iris-virginica', 'Iris-setosa',\n",
       "       'Iris-virginica', 'Iris-virginica', 'Iris-virginica',\n",
       "       'Iris-virginica', 'Iris-virginica', 'Iris-virginica',\n",
       "       'Iris-setosa', 'Iris-virginica', 'Iris-virginica',\n",
       "       'Iris-virginica', 'Iris-setosa', 'Iris-virginica', 'Iris-setosa',\n",
       "       'Iris-virginica', 'Iris-setosa', 'Iris-virginica', 'Iris-setosa',\n",
       "       'Iris-setosa', 'Iris-virginica', 'Iris-virginica', 'Iris-setosa',\n",
       "       'Iris-setosa', 'Iris-virginica', 'Iris-setosa', 'Iris-setosa',\n",
       "       'Iris-virginica', 'Iris-virginica', 'Iris-setosa', 'Iris-setosa',\n",
       "       'Iris-virginica', 'Iris-setosa', 'Iris-virginica', 'Iris-setosa',\n",
       "       'Iris-virginica', 'Iris-setosa', 'Iris-virginica',\n",
       "       'Iris-virginica', 'Iris-virginica', 'Iris-setosa', 'Iris-setosa',\n",
       "       'Iris-setosa', 'Iris-setosa', 'Iris-virginica', 'Iris-setosa',\n",
       "       'Iris-virginica', 'Iris-virginica', 'Iris-virginica',\n",
       "       'Iris-setosa', 'Iris-setosa', 'Iris-virginica', 'Iris-setosa',\n",
       "       'Iris-virginica', 'Iris-virginica', 'Iris-virginica',\n",
       "       'Iris-setosa', 'Iris-virginica', 'Iris-setosa', 'Iris-virginica',\n",
       "       'Iris-virginica', 'Iris-setosa', 'Iris-virginica',\n",
       "       'Iris-virginica', 'Iris-virginica', 'Iris-setosa',\n",
       "       'Iris-virginica', 'Iris-virginica', 'Iris-virginica',\n",
       "       'Iris-setosa', 'Iris-virginica', 'Iris-virginica',\n",
       "       'Iris-virginica', 'Iris-virginica', 'Iris-virginica',\n",
       "       'Iris-virginica', 'Iris-virginica', 'Iris-setosa', 'Iris-setosa',\n",
       "       'Iris-virginica', 'Iris-virginica', 'Iris-virginica',\n",
       "       'Iris-virginica', 'Iris-setosa', 'Iris-setosa', 'Iris-virginica',\n",
       "       'Iris-virginica', 'Iris-virginica', 'Iris-virginica',\n",
       "       'Iris-virginica', 'Iris-virginica', 'Iris-virginica',\n",
       "       'Iris-virginica', 'Iris-virginica', 'Iris-virginica',\n",
       "       'Iris-virginica', 'Iris-virginica', 'Iris-virginica',\n",
       "       'Iris-setosa', 'Iris-virginica', 'Iris-setosa', 'Iris-setosa',\n",
       "       'Iris-setosa', 'Iris-virginica', 'Iris-setosa', 'Iris-virginica',\n",
       "       'Iris-virginica', 'Iris-setosa', 'Iris-setosa', 'Iris-virginica',\n",
       "       'Iris-virginica', 'Iris-virginica', 'Iris-virginica',\n",
       "       'Iris-virginica', 'Iris-virginica', 'Iris-virginica',\n",
       "       'Iris-virginica', 'Iris-virginica', 'Iris-setosa',\n",
       "       'Iris-virginica', 'Iris-virginica', 'Iris-virginica',\n",
       "       'Iris-virginica', 'Iris-setosa', 'Iris-virginica',\n",
       "       'Iris-virginica', 'Iris-virginica', 'Iris-virginica',\n",
       "       'Iris-setosa'], dtype=object)"
      ]
     },
     "metadata": {},
     "output_type": "display_data"
    }
   ],
   "source": [
    "y_pred = knn.predict(X_test)\n",
    "display(y_pred)"
   ]
  },
  {
   "cell_type": "code",
   "execution_count": 7,
   "metadata": {},
   "outputs": [
    {
     "name": "stdout",
     "output_type": "stream",
     "text": [
      "Acurácia: 0.6444444444444445\n"
     ]
    }
   ],
   "source": [
    "from sklearn import metrics\n",
    "print(\"Acurácia:\", metrics.accuracy_score(y_test, y_pred))"
   ]
  },
  {
   "cell_type": "markdown",
   "metadata": {},
   "source": [
    "#### Atividades  - Algoritmo Modelo"
   ]
  },
  {
   "cell_type": "code",
   "execution_count": 8,
   "metadata": {},
   "outputs": [],
   "source": [
    "#Implementar aqui\n",
    "\n",
    "### DESCRIÇÃO TOTAL    \n",
    "### Eliminação Sequencial\n",
    "    #Entrada Conjunto de treinamento D\n",
    "    #Saida Conjunto de treinamento D'\n",
    "    # PARA cada elemento pertencente a D faça\n",
    "        # SE elemento é corretamente classificado por D ENTÃO\n",
    "            #REMOVE elemento de D\n",
    "        #fim se\n",
    "    #fim para\n",
    "#Retorna D    \n",
    "\n",
    "### Inserção Sequencial\n",
    "    #Entrada Conjunto de treinamento D\n",
    "    #Saida Conjunto de treinamento D'\n",
    "    #D' = {}\n",
    "    # PARA cada elemento pertencente a D faça\n",
    "        # SE elemento é incorretamente classificado por D' ENTÃO\n",
    "            # ACRESCENTA elemento de D'\n",
    "        #fim se\n",
    "    #fim para\n",
    "    \n",
    "#Retorna D' "
   ]
  },
  {
   "cell_type": "markdown",
   "metadata": {},
   "source": [
    "#### Métodos"
   ]
  },
  {
   "cell_type": "code",
   "execution_count": 9,
   "metadata": {},
   "outputs": [],
   "source": [
    "#Funções genéricas\n",
    "def prepara_atributos(d):\n",
    "  x = []\n",
    "  [x.append(item[\"x\"]) for index, item in d.items()]\n",
    "  return np.array(x)\n",
    "\n",
    "def prepara_rotulos(d):\n",
    "  y = []\n",
    "  [y.append(item[\"y\"]) for index, item in d.items()]\n",
    "  return np.array(y)"
   ]
  },
  {
   "cell_type": "markdown",
   "metadata": {},
   "source": [
    "### Remoção Incremental"
   ]
  },
  {
   "cell_type": "code",
   "execution_count": 10,
   "metadata": {},
   "outputs": [
    {
     "name": "stdout",
     "output_type": "stream",
     "text": [
      "Acurácia para remoção incremental: 0.6888888888888889\n"
     ]
    }
   ],
   "source": [
    "import copy\n",
    "### Eliminação Incremental\n",
    "#Entrada Conjunto de treinamento D\n",
    "dicionario = {}\n",
    "for i, dt in enumerate(X_train):\n",
    "    v = {}\n",
    "    v[\"x\"] = X_train[i]\n",
    "    v[\"y\"] = list(y_train)[i]\n",
    "    dicionario[i] = v \n",
    "# PARA cada elemento pertencente a D faça\n",
    "for index, item in list(dicionario.items()):\n",
    "\n",
    "  #Cria dicionário genérico para pode \n",
    "  dicionario_temporario = copy.deepcopy(dicionario)\n",
    "  #REMOVE elemento de D da iteração atual\n",
    "  del dicionario_temporario[index]\n",
    "  #cria o modelo   \n",
    "  knn_ri = KNeighborsClassifier(n_neighbors=numero_vizinhos)\n",
    "  #aplica fit no novo modelo criado sem o dado atual no dicionário\n",
    "  knn_ri.fit(prepara_atributos(dicionario_temporario), prepara_rotulos(dicionario_temporario))\n",
    "  #precição do dado atual com o modelo gerado sem ele\n",
    "  y_pred_ri = knn_ri.predict([np.array(item[\"x\"])])[0]\n",
    "  # SE elemento é corretamente classificado por D ENTÃO REMOVE elemento de D\n",
    "  # Verificação de quantidade minima de elementos correpondes a quantidade de vizinhos\n",
    "  if y_pred_ri == item[\"y\"] and len(dicionario.items()) > numero_vizinhos:\n",
    "    del dicionario[index]\n",
    "\n",
    "knn_rif = KNeighborsClassifier(n_neighbors=numero_vizinhos)\n",
    "knn_rif.fit(prepara_atributos(dicionario), prepara_rotulos(dicionario))\n",
    "y_pred_rif = knn_rif.predict(X_test)\n",
    "\n",
    "print(\"Acurácia para remoção incremental:\", metrics.accuracy_score(y_test, y_pred_rif))"
   ]
  },
  {
   "cell_type": "markdown",
   "metadata": {},
   "source": [
    "### Adição Incremental"
   ]
  },
  {
   "cell_type": "code",
   "execution_count": 16,
   "metadata": {},
   "outputs": [
    {
     "name": "stdout",
     "output_type": "stream",
     "text": [
      "Acurácia utilizando inserção incremental: 0.6518518518518519\n"
     ]
    }
   ],
   "source": [
    "#gerando um dicionário a partir dos dados de treino (X_train, y_train)\n",
    "dicionario = {}\n",
    "for i, dt in enumerate(X_train):\n",
    "    v = {}\n",
    "    v[\"x\"] = X_train[i]\n",
    "    v[\"y\"] = list(y_train)[i]\n",
    "    dicionario[i] = v \n",
    "    \n",
    "d_linha = {}\n",
    "\n",
    "#começando os dados com n número de amostras, onde n é a quantidade de vizinhos, para inicialização\n",
    "#já que o teste está sendo realizado com n amostras, para realizar o primeiro treinamento, é necessário que já haja\n",
    "#amostras na lista final\n",
    "for index in list(dicionario.items())[:numero_vizinhos]:\n",
    "  d_linha[index[0]] = index[1]\n",
    "\n",
    "#contador relacionado as amostras inseridas  \n",
    "nao_classificados = numero_vizinhos\n",
    "knn_f = KNeighborsClassifier(n_neighbors=numero_vizinhos)\n",
    "\n",
    "#para cada conjunto dos dados de treinamento (x_train, y_train)\n",
    "for index, item in list(dicionario.items())[numero_vizinhos:]:\n",
    "#treino com os valores que estão atualmente no dicionário d_final\n",
    "  knn_f.fit(prepara_atributos(d_linha), prepara_rotulos(d_linha))\n",
    "  y_pred_f = knn_f.predict([np.array(item[\"x\"])])[0]\n",
    "  # SE elemento é incorretamente classificado por D' ENTÃO ACRESCENTA elemento de D'\n",
    "  if(y_pred_f != item[\"y\"]):\n",
    "      #se ele foi incorretamente classificado\n",
    "      d_linha[nao_classificados] = item\n",
    "      nao_classificados = nao_classificados + 1\n",
    "    \n",
    "#com os dados de treinamento filtrados, verificaremos a acurácia com menor quantidade de dados\n",
    "knn_c = KNeighborsClassifier(n_neighbors=numero_vizinhos)\n",
    "knn_c.fit(prepara_atributos(d_linha), prepara_rotulos(d_linha))\n",
    "\n",
    "y_pred_knn_c = knn_c.predict(X_test)\n",
    "\n",
    "print(\"Acurácia utilizando inserção incremental:\", metrics.accuracy_score(y_test, y_pred_knn_c))"
   ]
  },
  {
   "cell_type": "code",
   "execution_count": null,
   "metadata": {},
   "outputs": [],
   "source": []
  }
 ],
 "metadata": {
  "kernelspec": {
   "display_name": "Python 3",
   "language": "python",
   "name": "python3"
  },
  "language_info": {
   "codemirror_mode": {
    "name": "ipython",
    "version": 3
   },
   "file_extension": ".py",
   "mimetype": "text/x-python",
   "name": "python",
   "nbconvert_exporter": "python",
   "pygments_lexer": "ipython3",
   "version": "3.7.1"
  }
 },
 "nbformat": 4,
 "nbformat_minor": 2
}
