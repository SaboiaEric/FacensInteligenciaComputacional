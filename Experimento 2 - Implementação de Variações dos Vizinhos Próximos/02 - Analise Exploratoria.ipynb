{
 "cells": [
  {
   "cell_type": "markdown",
   "metadata": {},
   "source": [
    "Links de referências:\n",
    " - https://www.youtube.com/watch?v=KBh4vnsCDc4 (Introdução)\n",
    " - https://www.youtube.com/watch?v=gJK4fmCvcWY (Introdução)\n",
    " - https://www.youtube.com/watch?v=4HKqjENq9OU (Completo com exemplos)"
   ]
  },
  {
   "cell_type": "markdown",
   "metadata": {},
   "source": [
    "## Exercício\n",
    "\n",
    "A base de dados é muito importante para o algoritmo dos vizinhos próximos, mas inviabiliza que esse algoritmo seja utilizada em ambientes com poucos recursos de memória, por exemplo.\n",
    "**Implemente os algoritmos de inserção e remoção incremental, minimizando o número de amostras necessárias para manter o resultado alto.**\n"
   ]
  },
  {
   "cell_type": "code",
   "execution_count": null,
   "metadata": {},
   "outputs": [],
   "source": []
  }
 ],
 "metadata": {
  "kernelspec": {
   "display_name": "Python 3",
   "language": "python",
   "name": "python3"
  },
  "language_info": {
   "codemirror_mode": {
    "name": "ipython",
    "version": 3
   },
   "file_extension": ".py",
   "mimetype": "text/x-python",
   "name": "python",
   "nbconvert_exporter": "python",
   "pygments_lexer": "ipython3",
   "version": "3.7.1"
  }
 },
 "nbformat": 4,
 "nbformat_minor": 2
}
